{
 "cells": [
  {
   "cell_type": "code",
   "execution_count": 121,
   "metadata": {},
   "outputs": [
    {
     "data": {
      "text/plain": [
       "'C:\\\\Users\\\\lsandoe\\\\Desktop\\\\Summer Research\\\\Cross_sections'"
      ]
     },
     "execution_count": 121,
     "metadata": {},
     "output_type": "execute_result"
    }
   ],
   "source": [
    "pwd"
   ]
  },
  {
   "cell_type": "code",
   "execution_count": 122,
   "metadata": {},
   "outputs": [
    {
     "name": "stdout",
     "output_type": "stream",
     "text": [
      " Volume in drive C is Windows\n",
      " Volume Serial Number is 6A9F-FE0B\n",
      "\n",
      " Directory of C:\\Users\\lsandoe\\Desktop\\Summer Research\\Cross_sections\n",
      "\n",
      "07/18/2019  09:49 AM    <DIR>          .\n",
      "07/18/2019  09:49 AM    <DIR>          ..\n",
      "07/16/2019  01:19 PM    <DIR>          .ipynb_checkpoints\n",
      "07/18/2019  09:18 AM             9,238 bools.txt\n",
      "07/15/2019  01:58 PM                 0 configure.py\n",
      "07/16/2019  03:45 PM               110 cs_driver.py\n",
      "07/18/2019  09:48 AM               143 gmt.history\n",
      "07/15/2019  11:14 AM           626,784 I2nd.nc\n",
      "07/16/2019  03:45 PM            51,416 I2nd.txt\n",
      "07/18/2019  09:48 AM               353 mycpt.cpt\n",
      "07/17/2019  12:08 PM             1,659 plot_projection.gmt\n",
      "07/18/2019  09:50 AM             2,968 produce_gridded.py\n",
      "07/16/2019  03:45 PM               579 project_to_line.gmt\n",
      "07/18/2019  09:48 AM             1,294 projection.txt\n",
      "07/16/2019  03:45 PM                26 psxy.txt\n",
      "07/18/2019  09:48 AM            27,558 spline_projection.pdf\n",
      "07/18/2019  09:48 AM            80,104 spline_projection.ps\n",
      "07/16/2019  11:51 AM           114,869 spline_projection1.pdf\n",
      "07/18/2019  09:48 AM            30,910 tempfile.xyz\n",
      "07/16/2019  03:45 PM               382 testcode.gmt\n",
      "07/16/2019  09:28 AM                57 testdata.txt\n",
      "07/18/2019  09:49 AM             2,877 Untitled.ipynb\n",
      "              19 File(s)        951,327 bytes\n",
      "               3 Dir(s)  120,695,484,416 bytes free\n"
     ]
    }
   ],
   "source": [
    "ls"
   ]
  },
  {
   "cell_type": "code",
   "execution_count": 124,
   "metadata": {},
   "outputs": [
    {
     "name": "stdout",
     "output_type": "stream",
     "text": [
      "65\n",
      "65\n",
      "(65, 80)\n"
     ]
    }
   ],
   "source": [
    "run -i produce_gridded"
   ]
  },
  {
   "cell_type": "code",
   "execution_count": null,
   "metadata": {},
   "outputs": [],
   "source": []
  }
 ],
 "metadata": {
  "kernelspec": {
   "display_name": "Python 3",
   "language": "python",
   "name": "python3"
  },
  "language_info": {
   "codemirror_mode": {
    "name": "ipython",
    "version": 3
   },
   "file_extension": ".py",
   "mimetype": "text/x-python",
   "name": "python",
   "nbconvert_exporter": "python",
   "pygments_lexer": "ipython3",
   "version": "3.7.1"
  }
 },
 "nbformat": 4,
 "nbformat_minor": 2
}
